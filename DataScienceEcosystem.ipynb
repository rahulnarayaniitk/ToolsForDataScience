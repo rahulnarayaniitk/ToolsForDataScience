{
 "cells": [
  {
   "cell_type": "markdown",
   "id": "9fc3960b",
   "metadata": {},
   "source": [
    "# Data Science Tools and Ecosystem"
   ]
  },
  {
   "cell_type": "markdown",
   "id": "57d2c316",
   "metadata": {},
   "source": [
    "In this notebook, Data Science Tools and Ecosystem are summarized."
   ]
  },
  {
   "cell_type": "markdown",
   "id": "976d5a80",
   "metadata": {},
   "source": [
    "**Objectives:**\n",
    "- Familiarity with Data Science jargons\n",
    "- Familiarity with Data Science tools\n",
    "- Familiarity with languages and libraries used for Data Science\n",
    "- Familiarity with some Jupyter Notebook and Github\n",
    "\n",
    "## Author\n",
    "Rahul Narayan"
   ]
  },
  {
   "cell_type": "markdown",
   "id": "379c6b62",
   "metadata": {},
   "source": [
    "Some of the popular languages that Data Scientists use are:\n",
    "1. Python\n",
    "2. R\n",
    "3. Scala"
   ]
  },
  {
   "cell_type": "markdown",
   "id": "7a489ebb",
   "metadata": {},
   "source": [
    "Some of the commonly used libraries used by Data Scientists include:\n",
    "1. Sciki-learn(ML-Regression, classification, clustering etc.)\n",
    "2. Keras(Deep Learning neural networks)\n",
    "3. TensorFlow(Deep Learning: Production and Deployment)\n",
    "4. PyTorch(DeepLearning)"
   ]
  },
  {
   "cell_type": "markdown",
   "id": "10d0a4f8",
   "metadata": {},
   "source": [
    "| Data Science Tools |\n",
    "|--------------------|\n",
    "| Jupyter Notebook   |\n",
    "|--------------------|\n",
    "| Google Colab       |\n",
    "|--------------------|\n",
    "| RStudio            |\n",
    "|--------------------|\n"
   ]
  },
  {
   "cell_type": "markdown",
   "id": "06b52522",
   "metadata": {},
   "source": [
    "Below are a few examples of evaluating arithmetic expressions in Python"
   ]
  },
  {
   "cell_type": "code",
   "execution_count": 1,
   "id": "d3c8e2c1",
   "metadata": {},
   "outputs": [
    {
     "data": {
      "text/plain": [
       "17"
      ]
     },
     "execution_count": 1,
     "metadata": {},
     "output_type": "execute_result"
    }
   ],
   "source": [
    "(3*4)+5\n",
    "# This a simple arithmetic expression to mutiply then add integers"
   ]
  },
  {
   "cell_type": "code",
   "execution_count": 3,
   "id": "dacaf9d9",
   "metadata": {},
   "outputs": [
    {
     "data": {
      "text/plain": [
       "3.3333333333333335"
      ]
     },
     "execution_count": 3,
     "metadata": {},
     "output_type": "execute_result"
    }
   ],
   "source": [
    "200/60\n",
    "# This will convert 200 minutes to hours by diving by 60"
   ]
  }
 ],
 "metadata": {
  "kernelspec": {
   "display_name": "Python 3 (ipykernel)",
   "language": "python",
   "name": "python3"
  },
  "language_info": {
   "codemirror_mode": {
    "name": "ipython",
    "version": 3
   },
   "file_extension": ".py",
   "mimetype": "text/x-python",
   "name": "python",
   "nbconvert_exporter": "python",
   "pygments_lexer": "ipython3",
   "version": "3.9.13"
  }
 },
 "nbformat": 4,
 "nbformat_minor": 5
}
